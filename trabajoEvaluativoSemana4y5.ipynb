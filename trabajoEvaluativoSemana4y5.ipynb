{
  "nbformat": 4,
  "nbformat_minor": 0,
  "metadata": {
    "colab": {
      "provenance": [],
      "authorship_tag": "ABX9TyM/rE2XRiB3YMX8qjquONw+",
      "include_colab_link": true
    },
    "kernelspec": {
      "name": "python3",
      "display_name": "Python 3"
    },
    "language_info": {
      "name": "python"
    }
  },
  "cells": [
    {
      "cell_type": "markdown",
      "metadata": {
        "id": "view-in-github",
        "colab_type": "text"
      },
      "source": [
        "<a href=\"https://colab.research.google.com/github/stebxn/votaci-nJuntaComunal/blob/main/trabajoEvaluativoSemana4y5.ipynb\" target=\"_parent\"><img src=\"https://colab.research.google.com/assets/colab-badge.svg\" alt=\"Open In Colab\"/></a>"
      ]
    },
    {
      "cell_type": "markdown",
      "source": [
        "**VOTACIÓN DE JUNTA DE ACCIÓN COMUNAL-SANTA FE**"
      ],
      "metadata": {
        "id": "qSzrnSArixND"
      }
    },
    {
      "cell_type": "code",
      "source": [
        "def solicitar_candidatos():\n",
        "    while True:\n",
        "        try:\n",
        "            cantidad = int(input(\"¿Cuántos candidatos participarán? \"))\n",
        "            if cantidad > 0:\n",
        "                break\n",
        "            else:\n",
        "                print(\"Error, ingrese un número mayor que cero.\")\n",
        "        except ValueError:\n",
        "            print(\"Error, ingrese un número válido.\")\n",
        "\n",
        "    candidatos = {}\n",
        "    for i in range(cantidad):\n",
        "        while True:\n",
        "            nombre = input(f\"Ingrese el nombre del candidato {i + 1}: \").strip()\n",
        "            if nombre.replace(\" \", \"\").isalpha():\n",
        "                nombre_normalizado = nombre.lower()\n",
        "                candidatos[nombre_normalizado] = nombre\n",
        "                break\n",
        "            else:\n",
        "                print(\"Nombre no válido, ingrese solo letras y espacios.\")\n",
        "    return candidatos\n",
        "\n",
        "def recibir_votos(candidatos):\n",
        "    print(\"Ingrese los votos (escriba 'FIN' para terminar)\")\n",
        "    votos = []\n",
        "    while True:\n",
        "        voto = input(\"Voto para: \").strip().lower()\n",
        "        if voto == \"fin\":\n",
        "            break\n",
        "        if voto in candidatos:\n",
        "            votos.append(voto)\n",
        "        else:\n",
        "            print(\"Candidato no válido, intente de nuevo.\")\n",
        "    return votos\n",
        "\n",
        "def calcular_resultados(votos):\n",
        "    resultado = {}\n",
        "    for voto in votos:\n",
        "        if voto in resultado:\n",
        "            resultado[voto] += 1\n",
        "        else:\n",
        "            resultado[voto] = 1\n",
        "    return resultado\n",
        "\n",
        "def encontrar_ganador(resultado):\n",
        "    max_votos = max(resultado.values(), default=0)\n",
        "    ganadores = [nombre for nombre, votos in resultado.items() if votos == max_votos]\n",
        "    return ganadores, max_votos\n",
        "\n",
        "def ejecutar_elecciones():\n",
        "    print(\"Elecciones de Junta de Acción Comunal de Santa Fe\")\n",
        "    candidatos = solicitar_candidatos()\n",
        "    votos = recibir_votos(candidatos)\n",
        "    resultados = calcular_resultados(votos)\n",
        "\n",
        "    print(\"\\nResultados:\")\n",
        "    for clave, votos in resultados.items():\n",
        "        print(f\"{candidatos[clave]}: {votos} votos\")\n",
        "\n",
        "    ganadores, max_votos = encontrar_ganador(resultados)\n",
        "    if len(ganadores) > 1:\n",
        "        print(\"\\nEmpate entre:\", \", \".join(candidatos[g] for g in ganadores), f\"con {max_votos} votos cada uno.\")\n",
        "    else:\n",
        "        print(\"\\nEl ganador es:\", candidatos[ganadores[0]], f\"con {max_votos} votos.\")\n",
        "\n",
        "if __name__ == \"__main__\":\n",
        "    ejecutar_elecciones()"
      ],
      "metadata": {
        "colab": {
          "base_uri": "https://localhost:8080/"
        },
        "id": "hBuvJaxWz4Mt",
        "outputId": "5a1a2e38-0e5a-4787-c117-39c0390ba78b"
      },
      "execution_count": 3,
      "outputs": [
        {
          "output_type": "stream",
          "name": "stdout",
          "text": [
            "Elecciones de Junta de Acción Comunal de Santa Fe\n",
            "¿Cuántos candidatos participarán? 3\n",
            "Ingrese el nombre del candidato 1: pepe\n",
            "Ingrese el nombre del candidato 2: coco\n",
            "Ingrese el nombre del candidato 3: roro\n",
            "Ingrese los votos (escriba 'FIN' para terminar)\n",
            "Voto para: ror\n",
            "Candidato no válido, intente de nuevo.\n",
            "Voto para: roror\n",
            "Candidato no válido, intente de nuevo.\n",
            "Voto para: pepe\n",
            "Voto para: coco\n",
            "Voto para: coco\n",
            "Voto para: pepe\n",
            "Voto para: FIN\n",
            "\n",
            "Resultados:\n",
            "pepe: 2 votos\n",
            "coco: 2 votos\n",
            "\n",
            "Empate entre: pepe, coco con 2 votos cada uno.\n"
          ]
        }
      ]
    }
  ]
}